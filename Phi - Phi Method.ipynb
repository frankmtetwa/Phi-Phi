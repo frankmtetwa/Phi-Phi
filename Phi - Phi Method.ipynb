{
 "cells": [
  {
   "cell_type": "code",
   "execution_count": 1,
   "id": "cd0b44db",
   "metadata": {},
   "outputs": [],
   "source": [
    "# Import Packages\n",
    "from scipy.optimize import fsolve\n",
    "import numpy as np\n",
    "import pint; u = pint.UnitRegistry()"
   ]
  },
  {
   "cell_type": "code",
   "execution_count": 2,
   "id": "84f9e186",
   "metadata": {},
   "outputs": [],
   "source": [
    "# ϕ-ϕ Method\n",
    "\n",
    "# Written by: Frank T. Mtetwa\n",
    "\n",
    "# Eqautions were taken from Chapter 12 of Fundamentals of Chemical Engineering Thermodynamics Kevin D. Dahm and Donald P. Visco Jr.\n",
    "# and Chemical, Biochemical and Engineering Thermodynamics Stanlet I. Sandler 4th Edition"
   ]
  },
  {
   "cell_type": "markdown",
   "id": "1f77f81d",
   "metadata": {},
   "source": [
    "## Operating conditions"
   ]
  },
  {
   "cell_type": "code",
   "execution_count": 16,
   "id": "d88ab565",
   "metadata": {},
   "outputs": [],
   "source": [
    "R = 8.314 # J/mol.K Universal gas constant\n",
    "T = 20 + 273 # K Temperature\n",
    "k12 = 0\n",
    "P1 = 1.5*10**5 # Pa Parital Pressure of Carbon dioxide"
   ]
  },
  {
   "cell_type": "markdown",
   "id": "ffb355c2",
   "metadata": {},
   "source": [
    "## Component Properties"
   ]
  },
  {
   "cell_type": "markdown",
   "id": "450dd5bc",
   "metadata": {},
   "source": [
    "Component properties were taken from DIPPR"
   ]
  },
  {
   "cell_type": "code",
   "execution_count": 17,
   "id": "46062905",
   "metadata": {},
   "outputs": [],
   "source": [
    "# Carbon dioxide\n",
    "Tc1 = 304.21 # K Critical Temperature\n",
    "Pc1 = 73.829448*10**5 # Bar Critical Pressure\n",
    "ω1 = 0.223621 # Acentric Factor\n",
    "\n",
    "# Carbon disulphide\n",
    "Tc2 = 552.49 # K Critical Temperature\n",
    "Pc2 = 73.2893858*10**5 # Bar Critical Pressure\n",
    "ω2 = 0.084158 # Acentric Factor"
   ]
  },
  {
   "cell_type": "markdown",
   "id": "20d4e9ce",
   "metadata": {},
   "source": [
    "## Peng-Robinson EOS"
   ]
  },
  {
   "cell_type": "markdown",
   "id": "4fc61530",
   "metadata": {},
   "source": [
    "Parameters for individual components"
   ]
  },
  {
   "cell_type": "code",
   "execution_count": 18,
   "id": "b99cd1ef",
   "metadata": {},
   "outputs": [],
   "source": [
    "# Carbon dioxide\n",
    "κ1 = 0.37464+1.54226*ω1-0.26992*ω1**2                    ## 6.7-4\n",
    "α1 = (1+κ1*(1-np.sqrt(T/Tc1)))**2                        ## 6.7-3\n",
    "a1 = 0.45724*((R**2*Tc1**2)/Pc1)*α1                      ## 6.7-1\n",
    "b1 = 0.07780*((R*Tc1)/Pc1)                               ## 6.7-2\n",
    "\n",
    "# Carbon disulphide\n",
    "κ2 = 0.37464+1.54226*ω2-0.26992*ω2**2                    ## 6.7-4\n",
    "α2 = (1+κ2*(1-np.sqrt(T/Tc2)))**2                        ## 6.7-3\n",
    "a2 = 0.45724*((R**2*Tc2**2)/Pc2)*α2                      ## 6.7-1\n",
    "b2 = 0.07780*((R*Tc2)/Pc2)                         ## 6.7-2"
   ]
  },
  {
   "cell_type": "markdown",
   "id": "885e4934",
   "metadata": {},
   "source": [
    "## Solve "
   ]
  },
  {
   "cell_type": "code",
   "execution_count": 19,
   "id": "c8522ced",
   "metadata": {},
   "outputs": [],
   "source": [
    "def phi_phi(X):\n",
    "    \n",
    "    x1  = X[0]\n",
    "    y1  = X[1]\n",
    "    V_L = X[2]\n",
    "    V_V = X[3]\n",
    "    P   = X[4]\n",
    "   \n",
    "    # Mole fractions\n",
    "    x2  = 1 - x1 \n",
    "    y2  = 1 - y1\n",
    "    \n",
    "    # Peng Robinson\n",
    "    a21 = np.sqrt(a1*a2)*(1-k12)                                    # 11.125\n",
    "    a12 = a21                                                     \n",
    "#    b12 = (b1+b2)/2                                                 # 11.126\n",
    "#    b21 = b12\n",
    "\n",
    "    am_L = x1**2*a1 + x2**2*a2 + 2*x1*x2*a12                        # 12.54\n",
    "    bm_L = x1*b1 + x2*b2                                            # 12.55\n",
    "\n",
    "    am_V = y1**2*a1 + y2**2*a2 + 2*y1*y2*a12                       # 12.56\n",
    "    bm_V = y1*b1 + y2*b2                                            # 12.57\n",
    "    \n",
    "    P1_L = (R*T)/(V_L-bm_L)\n",
    "    P2_L = am_L/(V_L*(V_L + bm_L) + bm_L*(V_L - bm_L))\n",
    "    \n",
    "    P1_V = (R*T)/(V_V-bm_V)\n",
    "    P2_V = am_L/(V_V*(V_V + bm_V) + bm_L*(V_V - bm_V))\n",
    "    \n",
    "    #P = P1/y1\n",
    "    \n",
    "    # Compressibility Factors\n",
    "    Zm_V = (P*V_V)/(R*T)\n",
    "    Zm_L = (P*V_L)/(R*T)\n",
    "\n",
    "    # Fugacities\n",
    "    Part1 = (b1/bm_V)*(Zm_V - 1)\n",
    "    Part2 = np.log(Zm_V -(bm_V*P)/(R*T))\n",
    "    Part3 = (am_V/(2*np.sqrt(2)*bm_V*(R*T)))*((2*(y1*a1 + y2*a12)/am_V) - (b1/bm_V))\n",
    "    Part4 = np.log((Zm_V + (1 + np.sqrt(2))*(bm_V*P/(R*T)))/(Zm_V + (1 - np.sqrt(2))*(bm_V*P/(R*T))))\n",
    "    \n",
    "    Part5 = ((b1/bm_L)*(Zm_L - 1))\n",
    "    Part6 = (np.log(Zm_L -(bm_L*P)/(R*T)))\n",
    "    Part7 = (am_L/(2*np.sqrt(2)*bm_L*(R*T)))*(2*(x1*a1 + x2*a12)/am_L - b1/bm_L)\n",
    "    Part8 = np.log((Zm_L + (1 + np.sqrt(2))*(bm_L*P/(R*T)))/(Zm_L + (1 - np.sqrt(2))*(bm_L*P/(R*T))))\n",
    "    \n",
    "    Part9 = ((b2/bm_V)*(Zm_V - 1))\n",
    "    Part10 = (np.log(Zm_V -(bm_V*P)/(R*T)))\n",
    "    Part11 = (am_V/(2*np.sqrt(2)*bm_V*(R*T)))*(2*(y2*a2 + y1*a12)/am_V - b2/bm_V)\n",
    "    Part12 = np.log((Zm_V + (1 + np.sqrt(2))*(bm_V*P/(R*T)))/(Zm_V + (1 - np.sqrt(2))*(bm_V*P/(R*T))))\n",
    "    \n",
    "    Part13 = ((b2/bm_L)*(Zm_L - 1))\n",
    "    Part14 = (np.log(Zm_L -(bm_L*P)/(R*T)))\n",
    "    Part15 = (am_L/(2*np.sqrt(2)*bm_L*(R*T)))*(2*(x2*a2 + x1*a12)/am_L - b2/bm_L)\n",
    "    Part16 = np.log((Zm_L + (1 + np.sqrt(2))*(bm_L*P/(R*T)))/(Zm_L + (1 - np.sqrt(2))*(bm_L*P/(R*T))))\n",
    "    \n",
    "    lnϕ_V1 = Part1 - Part2 - (Part3 * Part4)\n",
    "    lnϕ_L1 = Part5 - Part6 - (Part7 * Part8)\n",
    "    lnϕ_V2 = Part9 - Part10 - (Part11 * Part12)\n",
    "    lnϕ_L2 = Part13 - Part14 - (Part15 * Part16)\n",
    "    \n",
    "    ϕ_V1 = np.exp(lnϕ_V1)\n",
    "    ϕ_L1 = np.exp(lnϕ_L1)   \n",
    "    ϕ_V2 = np.exp(lnϕ_V2)\n",
    "    ϕ_L2 = np.exp(lnϕ_L2)\n",
    "    \n",
    "    # Equations to be solved\n",
    "    eqn1 = P - P1_L + P2_L\n",
    "    eqn2 = P - P1_V + P2_V\n",
    "    eqn3 = x1*ϕ_L1 - y1*ϕ_V1\n",
    "    eqn4 = x2*ϕ_L2 - y2*ϕ_V2\n",
    "    eqn5 = P1 - y1*P\n",
    "    \n",
    "    return [eqn1, eqn2, eqn3, eqn4, eqn5]\n",
    "    "
   ]
  },
  {
   "cell_type": "code",
   "execution_count": 20,
   "id": "6f57d719",
   "metadata": {},
   "outputs": [],
   "source": [
    "root = fsolve(phi_phi, (0.01, 0.8, 0.00005, 0.012, 200000))#, full_output=True)"
   ]
  },
  {
   "cell_type": "code",
   "execution_count": 21,
   "id": "3cb5ad7d",
   "metadata": {},
   "outputs": [
    {
     "name": "stdout",
     "output_type": "stream",
     "text": [
      "Liquid composition of 1, x1 = 0.02891\n",
      "Vapour composition of 1, y1 = 0.78036\n",
      "Volume of liquid, V_L = 0.0000579 m^3/mol\n",
      "Volume of vapour, V_V = 0.0119953 m^3/mol\n",
      "Total system pressure, P = 192219.33243 Pa\n"
     ]
    }
   ],
   "source": [
    "print('Liquid composition of 1, x1 = {0:1.5f}'.format(root[0]))\n",
    "print('Vapour composition of 1, y1 = {0:1.5f}'.format(root[1]))\n",
    "print('Volume of liquid, V_L = {0:1.7f}'.format(root[2]), 'm^3/mol')\n",
    "print('Volume of vapour, V_V = {0:1.7f}'.format(root[3]), 'm^3/mol')\n",
    "print('Total system pressure, P = {0:1.5f}'.format(root[4]), 'Pa')"
   ]
  },
  {
   "cell_type": "code",
   "execution_count": null,
   "id": "b1b25c0e",
   "metadata": {},
   "outputs": [],
   "source": []
  }
 ],
 "metadata": {
  "kernelspec": {
   "display_name": "Python 3 (ipykernel)",
   "language": "python",
   "name": "python3"
  },
  "language_info": {
   "codemirror_mode": {
    "name": "ipython",
    "version": 3
   },
   "file_extension": ".py",
   "mimetype": "text/x-python",
   "name": "python",
   "nbconvert_exporter": "python",
   "pygments_lexer": "ipython3",
   "version": "3.9.12"
  }
 },
 "nbformat": 4,
 "nbformat_minor": 5
}
